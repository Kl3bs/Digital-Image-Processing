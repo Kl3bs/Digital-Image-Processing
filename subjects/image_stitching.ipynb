{
 "cells": [
  {
   "cell_type": "markdown",
   "metadata": {},
   "source": [
    "<h3>Image Stitching</h3>"
   ]
  },
  {
   "cell_type": "code",
   "execution_count": 1,
   "metadata": {},
   "outputs": [],
   "source": [
    "import numpy as np\n",
    "import cv2\n",
    "import matplotlib.pyplot as plt "
   ]
  },
  {
   "cell_type": "code",
   "execution_count": 2,
   "metadata": {},
   "outputs": [
    {
     "name": "stdout",
     "output_type": "stream",
     "text": [
      "(177, 317, 3)\n",
      "(177, 318, 3)\n",
      "(178, 317, 3)\n",
      "(178, 318, 3)\n"
     ]
    }
   ],
   "source": [
    "IMG_PATH = '../images/'\n",
    "\n",
    "img1 = cv2.imread(IMG_PATH + 'palace_1.jpg')\n",
    "img2 = cv2.imread(IMG_PATH + 'palace_2.jpg')\n",
    "img3 = cv2.imread(IMG_PATH + 'palace_3.jpg')\n",
    "img4 = cv2.imread(IMG_PATH + 'palace_4.jpg')\n"
   ]
  },
  {
   "cell_type": "code",
   "execution_count": 11,
   "metadata": {},
   "outputs": [
    {
     "ename": "",
     "evalue": "",
     "output_type": "error",
     "traceback": [
      "\u001b[1;31mThe Kernel crashed while executing code in the current cell or a previous cell. \n",
      "\u001b[1;31mPlease review the code in the cell(s) to identify a possible cause of the failure. \n",
      "\u001b[1;31mClick <a href='https://aka.ms/vscodeJupyterKernelCrash'>here</a> for more info. \n",
      "\u001b[1;31mView Jupyter <a href='command:jupyter.viewOutput'>log</a> for further details."
     ]
    }
   ],
   "source": [
    "import cv2\n",
    "import numpy as np\n",
    "\n",
    "# Function to find matches between two images\n",
    "def find_matches(image1, image2):\n",
    "    sift = cv2.SIFT_create()\n",
    "\n",
    "    keypoints1, descriptors1 = sift.detectAndCompute(image1, None)\n",
    "    keypoints2, descriptors2 = sift.detectAndCompute(image2, None)\n",
    "\n",
    "    bf = cv2.BFMatcher()\n",
    "    matches = bf.knnMatch(descriptors1, descriptors2, k=2)\n",
    "\n",
    "    good_matches = []\n",
    "    for m, n in matches:\n",
    "        if m.distance < 0.75 * n.distance:\n",
    "            good_matches.append(m)\n",
    "\n",
    "    return keypoints1, keypoints2, good_matches\n",
    "\n",
    "# Function to create a panorama from two images\n",
    "def create_panorama(image1, image2):\n",
    "    keypoints1, keypoints2, matches = find_matches(image1, image2)\n",
    "\n",
    "    if len(matches) > 4:\n",
    "        src_pts = np.float32([keypoints1[m.queryIdx].pt for m in matches]).reshape(-1, 1, 2)\n",
    "        dst_pts = np.float32([keypoints2[m.trainIdx].pt for m in matches]).reshape(-1, 1, 2)\n",
    "\n",
    "        M, _ = cv2.findHomography(src_pts, dst_pts, cv2.RANSAC, 5.0)\n",
    "        height, width = image1.shape[:2]\n",
    "        warped_image = cv2.warpPerspective(image2, M, (width + image2.shape[1], height))\n",
    "        warped_image[:, :width] = image1\n",
    "\n",
    "        return warped_image\n",
    "\n",
    "    else:\n",
    "        print(\"Not enough matches to create a panorama between these two images.\")\n",
    "        return None\n",
    " \n",
    "# Create panoramas between images\n",
    "panorama_12 = create_panorama(img1, img2)\n",
    "panorama_34 = create_panorama(img3, img4)\n",
    "\n",
    "# Combine the panoramas to create the final panorama\n",
    "final_panorama = create_panorama(panorama_12, panorama_34)\n",
    "\n",
    "# Display the final panorama\n",
    "cv2.imshow('Final Panorama', final_panorama)\n",
    "cv2.waitKey(0)\n",
    "cv2.destroyAllWindows()\n"
   ]
  },
  {
   "cell_type": "code",
   "execution_count": null,
   "metadata": {},
   "outputs": [],
   "source": []
  }
 ],
 "metadata": {
  "kernelspec": {
   "display_name": ".venv",
   "language": "python",
   "name": "python3"
  },
  "language_info": {
   "codemirror_mode": {
    "name": "ipython",
    "version": 3
   },
   "file_extension": ".py",
   "mimetype": "text/x-python",
   "name": "python",
   "nbconvert_exporter": "python",
   "pygments_lexer": "ipython3",
   "version": "3.9.6"
  }
 },
 "nbformat": 4,
 "nbformat_minor": 2
}
