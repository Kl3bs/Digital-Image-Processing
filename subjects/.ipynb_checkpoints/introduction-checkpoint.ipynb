{
 "cells": [
  {
   "cell_type": "markdown",
   "metadata": {},
   "source": [
    "\n",
    "1 - Carregar imagens em escala de cinza e colorida. \n",
    "\n",
    "2 - Analisar os tipos de dados. Converter entre eles. (uint8, uint16, double, etc).\n",
    "\n",
    "3 - Realizar operações aritméticas entre duas matrizes de tipos de dados diferentes. Avalie o que acontece.\n",
    "\n",
    "4 - Apresentar ambas usando matolotlib e opencv (highgui). Qual a diferença entre as duas formas de visualização?"
   ]
  },
  {
   "cell_type": "code",
   "execution_count": 1,
   "metadata": {},
   "outputs": [],
   "source": [
    "import numpy as np\n",
    "import cv2 "
   ]
  },
  {
   "cell_type": "code",
   "execution_count": 2,
   "metadata": {},
   "outputs": [],
   "source": [
    "#load grayscale image\n",
    "grayscale_img = cv2.imread('../images/relampago.png',cv2.IMREAD_GRAYSCALE)\n",
    "\n",
    "#load colorful image\n",
    "colorful_img = cv2.imread('../images/relampago.png',cv2.IMREAD_COLOR)\n",
    "\n",
    "\n",
    "cv2.imshow('image',colorful_img)\n",
    "cv2.waitKey(0)"
   ]
  }
 ],
 "metadata": {
  "kernelspec": {
   "display_name": "Python 3 (ipykernel)",
   "language": "python",
   "name": "python3"
  },
  "language_info": {
   "codemirror_mode": {
    "name": "ipython",
    "version": 3
   },
   "file_extension": ".py",
   "mimetype": "text/x-python",
   "name": "python",
   "nbconvert_exporter": "python",
   "pygments_lexer": "ipython3",
   "version": "3.9.6"
  }
 },
 "nbformat": 4,
 "nbformat_minor": 4
}
