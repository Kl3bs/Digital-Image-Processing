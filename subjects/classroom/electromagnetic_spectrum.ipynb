{
 "cells": [
  {
   "cell_type": "code",
   "execution_count": 1,
   "metadata": {},
   "outputs": [],
   "source": [
    "import numpy as np\n",
    "import matplotlib.pyplot as plt"
   ]
  },
  {
   "cell_type": "code",
   "execution_count": 2,
   "metadata": {},
   "outputs": [],
   "source": [
    "x = np.linspace(0, 255, 1000)\n",
    "y = np.linspace(0, 255, 100)"
   ]
  },
  {
   "cell_type": "code",
   "execution_count": 3,
   "metadata": {},
   "outputs": [],
   "source": [
    "matrix = np.meshgrid(x, y)"
   ]
  },
  {
   "cell_type": "code",
   "execution_count": 11,
   "metadata": {},
   "outputs": [
    {
     "name": "stdout",
     "output_type": "stream",
     "text": [
      "SpecRatio: 1.08\n"
     ]
    },
    {
     "data": {
      "image/png": "[encoded data removed]",
      "text/plain": [
       "<Figure size 1000x100 with 1 Axes>"
      ]
     },
     "metadata": {},
     "output_type": "display_data"
    }
   ],
   "source": [
    "from PIL import Image\n",
    "import matplotlib.pyplot as plt\n",
    "\n",
    "width = 1000   \n",
    "height = 100  \n",
    "\n",
    "specratio = 180 * 6 / width\n",
    "\n",
    "print(\"SpecRatio: \" + str(specratio))\n",
    "\n",
    "red = 255\n",
    "green = 0\n",
    "blue = 0\n",
    "\n",
    "colors = []\n",
    "\n",
    "step = round(specratio)\n",
    "\n",
    "for u in range(0, height):\n",
    "    for i in range(0, 255 * 6 + 1, step):\n",
    "        if i > 0 and i <= 255:\n",
    "            blue += step\n",
    "        elif i > 255 and i <= 255 * 2:\n",
    "            red -= step\n",
    "        elif i > 255 * 2 and i <= 255 * 3:\n",
    "            green += step\n",
    "        elif i > 255 * 3 and i <= 255 * 4:\n",
    "            blue -= step\n",
    "        elif i > 255 * 4 and i <= 255 * 5:\n",
    "            red += step\n",
    "        elif i > 255 * 5 and i <= 255 * 6:\n",
    "            green -= step\n",
    "\n",
    "        colors.append((red, green, blue))\n",
    "\n",
    "newwidth = int((255 * 6 + 1) / step)   \n",
    "\n",
    " \n",
    "\n",
    "im = Image.new(\"RGB\", (newwidth, height))\n",
    "im.putdata(colors)\n",
    "plt.figure(figsize=(10, 1))  \n",
    "plt.imshow(im)\n",
    "plt.axis('off')  \n",
    "plt.show()\n"
   ]
  }
 ],
 "metadata": {
  "kernelspec": {
   "display_name": ".venv",
   "language": "python",
   "name": "python3"
  },
  "language_info": {
   "codemirror_mode": {
    "name": "ipython",
    "version": 3
   },
   "file_extension": ".py",
   "mimetype": "text/x-python",
   "name": "python",
   "nbconvert_exporter": "python",
   "pygments_lexer": "ipython3",
   "version": "3.9.6"
  }
 },
 "nbformat": 4,
 "nbformat_minor": 2
}
